{
 "cells": [
  {
   "cell_type": "markdown",
   "id": "2c8f47d3",
   "metadata": {
    "id": "2c8f47d3"
   },
   "source": [
    "# Lab Session"
   ]
  },
  {
   "cell_type": "markdown",
   "id": "f637aba6",
   "metadata": {
    "id": "f637aba6"
   },
   "source": [
    "## <font color='blue'> Table Of Contents </font>\n",
    "- Problem Statement \n",
    "- Load required libraries\n",
    "- Connect to DB using mysql-connector-python package\n",
    "- Create database named `e_commerce`\n",
    "- Create tables and insert data into tables as specified in the question\n",
    "- Read all the questions and write sql queries to meet the objective "
   ]
  },
  {
   "cell_type": "markdown",
   "id": "1073fc90",
   "metadata": {
    "id": "1073fc90"
   },
   "source": [
    "## <font color='blue'> Problem Statement </font>\n",
    "###  An E-commerce website manages its data in the form of various tables.\n",
    "You need to create a Database called `e_commerce` and various tables in it. The tables needed and attributes which need to be in every table are given before hand. All you have to do is create tables with data in it and answer some of the questions that follows."
   ]
  },
  {
   "cell_type": "markdown",
   "id": "48787355",
   "metadata": {
    "id": "48787355"
   },
   "source": [
    "### e_commerce Schema:"
   ]
  },
  {
   "cell_type": "code",
   "execution_count": null,
   "id": "48c22c7d",
   "metadata": {
    "id": "78938fbc"
   },
   "outputs": [],
   "source": []
  },
  {
   "cell_type": "markdown",
   "id": "d9abe6c7",
   "metadata": {
    "id": "d9abe6c7"
   },
   "source": [
    "### Load Required Libraries"
   ]
  },
  {
   "cell_type": "code",
   "execution_count": 2,
   "id": "0178d08e",
   "metadata": {
    "id": "0178d08e"
   },
   "outputs": [],
   "source": [
    "import mysql.connector as mysql\n",
    "import pandas as pd"
   ]
  },
  {
   "cell_type": "markdown",
   "id": "d7d7fd5c",
   "metadata": {
    "id": "d7d7fd5c"
   },
   "source": [
    "### Connect to DB using Mysql-connector-python package"
   ]
  },
  {
   "cell_type": "code",
   "execution_count": 4,
   "id": "ef7bef72",
   "metadata": {
    "id": "ef7bef72"
   },
   "outputs": [],
   "source": [
    "connection = mysql.connect(\n",
    "            host='localhost',\n",
    "            username = 'root',\n",
    "            port = 3306,\n",
    "            password = 'admin'\n",
    "        );"
   ]
  },
  {
   "cell_type": "markdown",
   "id": "9d55e510",
   "metadata": {
    "id": "9d55e510"
   },
   "source": [
    "### You are required to create a database named 'e_commerce'"
   ]
  },
  {
   "cell_type": "code",
   "execution_count": 5,
   "id": "42a154f2",
   "metadata": {
    "id": "42a154f2"
   },
   "outputs": [],
   "source": [
    "cursorObject = connection.cursor();\n",
    "create_database = \"\"\"create database if not exists e_commerce;\n",
    "                     use e_commerce;\n",
    "                  \"\"\";\n",
    "cursorObject.execute(create_database);\n",
    "connection.close()\n",
    "\n",
    "connection = mysql.connect(\n",
    "            host='localhost',\n",
    "            username = 'root',\n",
    "            password = 'admin',\n",
    "            database = 'e_commerce'\n",
    "        );\n",
    "cursorObject = connection.cursor();"
   ]
  },
  {
   "cell_type": "markdown",
   "id": "480dc986",
   "metadata": {
    "id": "480dc986"
   },
   "source": [
    "### Q1. Create tables for supplier, customer, category, product, productDetails, order, rating to store the data for the E-commerce with the schema definition given below.\n",
    "\n",
    "\n",
    "- **`supplier`**(SUPP_ID int primary key, SUPP_NAME varchar(50), SUPP_CITY varchar(50), SUPP_PHONE varchar(10))\n",
    "\n",
    "\n",
    "- **`customer`** (CUS_ID INT NOT NULL, CUS_NAME VARCHAR(20) NULL DEFAULT NULL, CUS_PHONE VARCHAR(10), CUS_CITY varchar(30) ,CUS_GENDER CHAR,PRIMARY KEY (CUS_ID))\n",
    "\n",
    "\n",
    "- **`category`** (CAT_ID INT NOT NULL, CAT_NAME VARCHAR(20) NULL DEFAULT NULL,PRIMARY KEY (CAT_ID))\n",
    "\n",
    "\n",
    "- **`product`** (PRO_ID INT NOT NULL, PRO_NAME VARCHAR(20) NULL DEFAULT NULL, PRO_DESC VARCHAR(60) NULL DEFAULT NULL, CAT_ID INT NOT NULL,PRIMARY KEY (PRO_ID),FOREIGN KEY (CAT_ID) REFERENCES CATEGORY (CAT_ID))\n",
    "\n",
    "\n",
    "- **`product_details`** (PROD_ID INT NOT NULL, PRO_ID INT NOT NULL, SUPP_ID INT NOT NULL, PROD_PRICE INT NOT NULL,\n",
    "  PRIMARY KEY (PROD_ID),FOREIGN KEY (PRO_ID) REFERENCES PRODUCT (PRO_ID), FOREIGN KEY (SUPP_ID) REFERENCES SUPPLIER(SUPP_ID))\n",
    "  \n",
    "  \n",
    "- **`order`** (ORD_ID INT NOT NULL, ORD_AMOUNT INT NOT NULL, ORD_DATE DATE, CUS_ID INT NOT NULL, PROD_ID INT NOT NULL,PRIMARY KEY (ORD_ID),FOREIGN KEY (CUS_ID) REFERENCES CUSTOMER(CUS_ID),FOREIGN KEY (PROD_ID) REFERENCES PRODUCT_DETAILS(PROD_ID))\n",
    "\n",
    "\n",
    "- **`rating`** (RAT_ID INT NOT NULL, CUS_ID INT NOT NULL, SUPP_ID INT NOT NULL, RAT_RATSTARS INT NOT NULL,PRIMARY KEY (RAT_ID),FOREIGN KEY (SUPP_ID) REFERENCES SUPPLIER (SUPP_ID),FOREIGN KEY (CUS_ID) REFERENCES CUSTOMER(CUS_ID))"
   ]
  },
  {
   "cell_type": "code",
   "execution_count": 6,
   "id": "4fe9dc2d",
   "metadata": {
    "id": "967b718f"
   },
   "outputs": [],
   "source": [
    "tables = \"\"\"create table if not exists supplier(SUPP_ID int primary key, SUPP_NAME varchar(50), SUPP_CITY varchar(50),\n",
    "            SUPP_PHONE varchar(20));\n",
    "\n",
    "            create table if not exists customer(CUS_ID INT NOT NULL, CUS_NAME VARCHAR(20) NULL DEFAULT NULL,\n",
    "            CUS_PHONE VARCHAR(10), CUS_CITY varchar(30) ,CUS_GENDER CHAR,PRIMARY KEY (CUS_ID));\n",
    "\n",
    "            create table if not exists category(CAT_ID INT NOT NULL, CAT_NAME VARCHAR(20) NULL DEFAULT NULL,\n",
    "            PRIMARY KEY (CAT_ID));\n",
    "\n",
    "            create table if not exists product(PRO_ID INT NOT NULL, PRO_NAME VARCHAR(20) NULL DEFAULT NULL,\n",
    "            PRO_DESC VARCHAR(60) NULL DEFAULT NULL, CAT_ID INT NOT NULL,PRIMARY KEY (PRO_ID),\n",
    "            FOREIGN KEY (CAT_ID) REFERENCES CATEGORY (CAT_ID));\n",
    "\n",
    "            create table if not exists product_details (PROD_ID INT NOT NULL, PRO_ID INT NOT NULL, SUPP_ID INT NOT NULL,\n",
    "            PROD_PRICE INT NOT NULL, PRIMARY KEY (PROD_ID),FOREIGN KEY (PRO_ID) REFERENCES PRODUCT (PRO_ID),\n",
    "            FOREIGN KEY (SUPP_ID) REFERENCES SUPPLIER(SUPP_ID));\n",
    "\n",
    "            create table if not exists orders (ORD_ID INT NOT NULL, ORD_AMOUNT INT NOT NULL, ORD_DATE DATE, CUS_ID INT NOT NULL,\n",
    "            PROD_ID INT NOT NULL,PRIMARY KEY (ORD_ID),FOREIGN KEY (CUS_ID) REFERENCES CUSTOMER(CUS_ID),\n",
    "            FOREIGN KEY (PROD_ID) REFERENCES PRODUCT_DETAILS(PROD_ID));\n",
    "\n",
    "            create table if not exists rating (RAT_ID INT NOT NULL, CUS_ID INT NOT NULL, SUPP_ID INT NOT NULL,\n",
    "            RAT_RATSTARS INT NOT NULL,PRIMARY KEY (RAT_ID),FOREIGN KEY (SUPP_ID) REFERENCES SUPPLIER (SUPP_ID),\n",
    "            FOREIGN KEY (CUS_ID) REFERENCES CUSTOMER(CUS_ID));\"\"\"\n",
    "cursorObject.execute(tables)\n",
    "connection.close()\n",
    "connection = mysql.connect(\n",
    "            host='localhost',\n",
    "            username = 'root',\n",
    "            password = 'admin',\n",
    "            database = 'e_commerce'\n",
    "        );\n",
    "cursorObject = connection.cursor();"
   ]
  },
  {
   "cell_type": "markdown",
   "id": "1f653731",
   "metadata": {
    "id": "1f653731"
   },
   "source": [
    "### Q2. Insert the following data in the table created above\n",
    "#### `Note:` If you are getting any error while inserting the data into tables, Kindly close the connection and reconnect\n",
    "\n",
    "#### Table:  supplier\n",
    "| SUPP_ID | SUPP_NAME | SUPP_CITY | SUPP_PHONE |\n",
    "| --- | --- | --- | --- | \n",
    "| 1 | Rajesh Retails | Delhi | 1234567890 |\n",
    "| 2 | Appario Ltd. | Mumbai | 258963147032 | \n",
    "| 3 | Knome products | Bangalore | 9785462315 |\n",
    "| 4 | Bansal Retails | Kochi | 8975463285 |\n",
    "| 5 | Mittal Ltd. | Lucknow | 7898456532 |"
   ]
  },
  {
   "cell_type": "code",
   "execution_count": 7,
   "id": "f6dddd07",
   "metadata": {
    "id": "f6dddd07"
   },
   "outputs": [
    {
     "ename": "IntegrityError",
     "evalue": "1062 (23000): Duplicate entry '1' for key 'supplier.PRIMARY'",
     "output_type": "error",
     "traceback": [
      "\u001b[1;31m---------------------------------------------------------------------------\u001b[0m",
      "\u001b[1;31mMySQLInterfaceError\u001b[0m                       Traceback (most recent call last)",
      "\u001b[1;32m~\\anaconda3\\lib\\site-packages\\mysql\\connector\\connection_cext.py\u001b[0m in \u001b[0;36mcmd_query\u001b[1;34m(self, query, raw, buffered, raw_as_string)\u001b[0m\n\u001b[0;32m    534\u001b[0m                 \u001b[0mquery\u001b[0m \u001b[1;33m=\u001b[0m \u001b[0mquery\u001b[0m\u001b[1;33m.\u001b[0m\u001b[0mencode\u001b[0m\u001b[1;33m(\u001b[0m\u001b[1;34m'utf-8'\u001b[0m\u001b[1;33m)\u001b[0m\u001b[1;33m\u001b[0m\u001b[1;33m\u001b[0m\u001b[0m\n\u001b[1;32m--> 535\u001b[1;33m             self._cmysql.query(query,\n\u001b[0m\u001b[0;32m    536\u001b[0m                                \u001b[0mraw\u001b[0m\u001b[1;33m=\u001b[0m\u001b[0mraw\u001b[0m\u001b[1;33m,\u001b[0m \u001b[0mbuffered\u001b[0m\u001b[1;33m=\u001b[0m\u001b[0mbuffered\u001b[0m\u001b[1;33m,\u001b[0m\u001b[1;33m\u001b[0m\u001b[1;33m\u001b[0m\u001b[0m\n",
      "\u001b[1;31mMySQLInterfaceError\u001b[0m: Duplicate entry '1' for key 'supplier.PRIMARY'",
      "\nDuring handling of the above exception, another exception occurred:\n",
      "\u001b[1;31mIntegrityError\u001b[0m                            Traceback (most recent call last)",
      "\u001b[1;32m~\\AppData\\Local\\Temp/ipykernel_3596/1521297679.py\u001b[0m in \u001b[0;36m<module>\u001b[1;34m\u001b[0m\n\u001b[0;32m      5\u001b[0m           \u001b[1;33m(\u001b[0m\u001b[1;36m3\u001b[0m\u001b[1;33m,\u001b[0m \u001b[1;34m'Knome Products'\u001b[0m\u001b[1;33m,\u001b[0m \u001b[1;34m'Banglore'\u001b[0m\u001b[1;33m,\u001b[0m \u001b[1;34m'9785462315'\u001b[0m\u001b[1;33m)\u001b[0m\u001b[1;33m,\u001b[0m\u001b[1;33m(\u001b[0m\u001b[1;36m4\u001b[0m\u001b[1;33m,\u001b[0m \u001b[1;34m'Bansal Retails'\u001b[0m\u001b[1;33m,\u001b[0m \u001b[1;34m'Kochi'\u001b[0m\u001b[1;33m,\u001b[0m \u001b[1;34m'8975463285'\u001b[0m\u001b[1;33m)\u001b[0m\u001b[1;33m,\u001b[0m\u001b[1;33m\u001b[0m\u001b[1;33m\u001b[0m\u001b[0m\n\u001b[0;32m      6\u001b[0m           (5, 'Mittal Ltd.', 'Lucknow', '7898456532')]\n\u001b[1;32m----> 7\u001b[1;33m \u001b[0mcursorObject\u001b[0m\u001b[1;33m.\u001b[0m\u001b[0mexecutemany\u001b[0m\u001b[1;33m(\u001b[0m\u001b[0minsert_into_supplier\u001b[0m\u001b[1;33m,\u001b[0m \u001b[0mval_sup\u001b[0m\u001b[1;33m)\u001b[0m\u001b[1;33m\u001b[0m\u001b[1;33m\u001b[0m\u001b[0m\n\u001b[0m\u001b[0;32m      8\u001b[0m \u001b[0mconnection\u001b[0m\u001b[1;33m.\u001b[0m\u001b[0mcommit\u001b[0m\u001b[1;33m(\u001b[0m\u001b[1;33m)\u001b[0m\u001b[1;33m\u001b[0m\u001b[1;33m\u001b[0m\u001b[0m\n",
      "\u001b[1;32m~\\anaconda3\\lib\\site-packages\\mysql\\connector\\cursor_cext.py\u001b[0m in \u001b[0;36mexecutemany\u001b[1;34m(self, operation, seq_params)\u001b[0m\n\u001b[0;32m    356\u001b[0m             \u001b[1;32mif\u001b[0m \u001b[0mstmt\u001b[0m \u001b[1;32mis\u001b[0m \u001b[1;32mnot\u001b[0m \u001b[1;32mNone\u001b[0m\u001b[1;33m:\u001b[0m\u001b[1;33m\u001b[0m\u001b[1;33m\u001b[0m\u001b[0m\n\u001b[0;32m    357\u001b[0m                 \u001b[0mself\u001b[0m\u001b[1;33m.\u001b[0m\u001b[0m_executed\u001b[0m \u001b[1;33m=\u001b[0m \u001b[0mstmt\u001b[0m\u001b[1;33m\u001b[0m\u001b[1;33m\u001b[0m\u001b[0m\n\u001b[1;32m--> 358\u001b[1;33m                 \u001b[1;32mreturn\u001b[0m \u001b[0mself\u001b[0m\u001b[1;33m.\u001b[0m\u001b[0mexecute\u001b[0m\u001b[1;33m(\u001b[0m\u001b[0mstmt\u001b[0m\u001b[1;33m)\u001b[0m\u001b[1;33m\u001b[0m\u001b[1;33m\u001b[0m\u001b[0m\n\u001b[0m\u001b[0;32m    359\u001b[0m \u001b[1;33m\u001b[0m\u001b[0m\n\u001b[0;32m    360\u001b[0m         \u001b[0mrowcnt\u001b[0m \u001b[1;33m=\u001b[0m \u001b[1;36m0\u001b[0m\u001b[1;33m\u001b[0m\u001b[1;33m\u001b[0m\u001b[0m\n",
      "\u001b[1;32m~\\anaconda3\\lib\\site-packages\\mysql\\connector\\cursor_cext.py\u001b[0m in \u001b[0;36mexecute\u001b[1;34m(self, operation, params, multi)\u001b[0m\n\u001b[0;32m    267\u001b[0m \u001b[1;33m\u001b[0m\u001b[0m\n\u001b[0;32m    268\u001b[0m         \u001b[1;32mtry\u001b[0m\u001b[1;33m:\u001b[0m\u001b[1;33m\u001b[0m\u001b[1;33m\u001b[0m\u001b[0m\n\u001b[1;32m--> 269\u001b[1;33m             result = self._cnx.cmd_query(stmt, raw=self._raw,\n\u001b[0m\u001b[0;32m    270\u001b[0m                                          \u001b[0mbuffered\u001b[0m\u001b[1;33m=\u001b[0m\u001b[0mself\u001b[0m\u001b[1;33m.\u001b[0m\u001b[0m_buffered\u001b[0m\u001b[1;33m,\u001b[0m\u001b[1;33m\u001b[0m\u001b[1;33m\u001b[0m\u001b[0m\n\u001b[0;32m    271\u001b[0m                                          raw_as_string=self._raw_as_string)\n",
      "\u001b[1;32m~\\anaconda3\\lib\\site-packages\\mysql\\connector\\connection_cext.py\u001b[0m in \u001b[0;36mcmd_query\u001b[1;34m(self, query, raw, buffered, raw_as_string)\u001b[0m\n\u001b[0;32m    538\u001b[0m                                query_attrs=self._query_attrs)\n\u001b[0;32m    539\u001b[0m         \u001b[1;32mexcept\u001b[0m \u001b[0mMySQLInterfaceError\u001b[0m \u001b[1;32mas\u001b[0m \u001b[0mexc\u001b[0m\u001b[1;33m:\u001b[0m\u001b[1;33m\u001b[0m\u001b[1;33m\u001b[0m\u001b[0m\n\u001b[1;32m--> 540\u001b[1;33m             raise errors.get_mysql_exception(exc.errno, msg=exc.msg,\n\u001b[0m\u001b[0;32m    541\u001b[0m                                              sqlstate=exc.sqlstate)\n\u001b[0;32m    542\u001b[0m         \u001b[1;32mexcept\u001b[0m \u001b[0mAttributeError\u001b[0m\u001b[1;33m:\u001b[0m\u001b[1;33m\u001b[0m\u001b[1;33m\u001b[0m\u001b[0m\n",
      "\u001b[1;31mIntegrityError\u001b[0m: 1062 (23000): Duplicate entry '1' for key 'supplier.PRIMARY'"
     ]
    }
   ],
   "source": [
    "# insert into \"supplier\" table\n",
    "insert_into_supplier = \"\"\"INSERT INTO SUPPLIER (SUPP_ID, SUPP_NAME, SUPP_CITY, SUPP_PHONE)\n",
    "                          VALUES(%s, %s, %s, %s)\"\"\"\n",
    "val_sup = [(1, 'Rajesh Retails', 'Delhi', '1234567890'),(2, 'Appario Ltd', 'Mumbai', '258963147'),\n",
    "          (3, 'Knome Products', 'Banglore', '9785462315'),(4, 'Bansal Retails', 'Kochi', '8975463285'),\n",
    "          (5, 'Mittal Ltd.', 'Lucknow', '7898456532')]\n",
    "cursorObject.executemany(insert_into_supplier, val_sup)\n",
    "connection.commit()"
   ]
  },
  {
   "cell_type": "markdown",
   "id": "e8a070a6",
   "metadata": {
    "id": "e8a070a6"
   },
   "source": [
    "#### Table:  customer\n",
    "| CUS_ID | CUS_NAME | SUPP_PHONE | CUS_CITY | CUS_GENDER\n",
    "| --- | --- | --- | --- | --- |\n",
    "| 1 | AAKASH | 9999999999 | DELHI | M |\n",
    "| 2 | AMAN | 9785463215 | NOIDA | M |\n",
    "| 3 | NEHA | 9999999998 | MUMBAI | F |\n",
    "| 4 | MEGHA | 9994562399 | KOLKATA | F |\n",
    "| 5 | PULKIT | 7895999999 | LUCKNOW | M |"
   ]
  },
  {
   "cell_type": "code",
   "execution_count": 6,
   "id": "15a4ee87",
   "metadata": {
    "id": "15a4ee87"
   },
   "outputs": [],
   "source": [
    "# insert into \"customer\" table\n",
    "insert_into_customer = \"\"\"INSERT INTO CUSTOMER (CUS_ID, CUS_NAME, CUS_PHONE, CUS_CITY, CUS_GENDER)\n",
    "                          VALUES(%s, %s, %s, %s, %s)\"\"\"\n",
    "val_cus = [(1, 'Aakash', '99999999', 'Delhi', 'M'), (2, 'Aman', '9785463215', 'Noida', 'M'),\n",
    "           (3, 'Neha', '999999998', 'Mumbai', 'F'), (4, 'Megha', '9994562399', 'Kolkata', 'F'),\n",
    "           (5, 'Pulkit', '7859999999', 'Lucknow', 'M')]\n",
    "cursorObject.executemany(insert_into_customer, val_cus)\n",
    "connection.commit()"
   ]
  },
  {
   "cell_type": "markdown",
   "id": "b68bfbc2",
   "metadata": {
    "id": "b68bfbc2"
   },
   "source": [
    "#### Table:  category\n",
    "| CAT_ID | CAT_NAME | \n",
    "| --- | --- |  \n",
    "| 1 | BOOKS |\n",
    "| 2 | GAMES |  \n",
    "| 3 | GROCERIES | \n",
    "| 4 | ELECTRONICS | \n",
    "| 5 | CLOTHES | "
   ]
  },
  {
   "cell_type": "code",
   "execution_count": 7,
   "id": "05a00abc",
   "metadata": {
    "id": "05a00abc"
   },
   "outputs": [],
   "source": [
    "# insert into \"categoty\" table\n",
    "insert_into_category = \"\"\"INSERT INTO CATEGORY (CAT_ID, CAT_NAME)\n",
    "                          VALUES(%s, %s)\"\"\"\n",
    "val_cat = [(1, 'Books'), (2, 'Games'), (3, 'GROCERIES'), (4, 'ELECTRONICS'), (5, 'Clothes')]\n",
    "\n",
    "cursorObject.executemany(insert_into_category, val_cat)\n",
    "connection.commit()"
   ]
  },
  {
   "cell_type": "markdown",
   "id": "eb3bc592",
   "metadata": {
    "id": "eb3bc592"
   },
   "source": [
    "#### Table:  product\n",
    "| PRO_ID | PRO_NAME | PRO_DESC | CAT_ID |\n",
    "| --- | --- | --- | --- | \n",
    "| 1 | GTA V | DFJDJFDJFDJFDJFJF | 2 |\n",
    "| 2 | TSHIRT | DFDFJDFJDKFD | 5 | \n",
    "| 3 | ROG LAPTOP | DFNTTNTNTERND | 4 |\n",
    "| 4 | OATS | REURENTBTOTH | 3 |\n",
    "| 5 | HARRY POTTER | NBEMCTHTJTH | 1 |\n"
   ]
  },
  {
   "cell_type": "code",
   "execution_count": 8,
   "id": "cdfbdfad",
   "metadata": {
    "id": "cdfbdfad"
   },
   "outputs": [],
   "source": [
    "# insert into \"product\" table\n",
    "insert_into_product = \"\"\"INSERT INTO PRODUCT (PRO_ID, PRO_NAME, PRO_DESC, CAT_ID)\n",
    "                         VALUES (%s, %s, %s, %s)\"\"\"\n",
    "val_prod = [(1, 'GTA V', 'gfgfgfgfgfgfgfgfgfg', 2), (2, 'TShirt', 'dfdfdfdfdfdfdf', 5),\n",
    "            (3, 'ROG Laptop', 'dfntntntnernd', 4), (4, 'Oats', 'redffgdfgdfs', 3),\n",
    "            (5, 'Harry Potter', 'ndfhfgbdfghfg', 1)]\n",
    "cursorObject.executemany(insert_into_product, val_prod)\n",
    "connection.commit()"
   ]
  },
  {
   "cell_type": "markdown",
   "id": "cfa8a47d",
   "metadata": {
    "id": "cfa8a47d"
   },
   "source": [
    "#### Table:  product_details\n",
    "| PROD_ID | PRO_ID | SUPP_ID | PROD_PRICE |\n",
    "| --- | --- | --- | --- | \n",
    "| 1 | 1 | 2 | 1500 |\n",
    "| 2 | 3 | 5 | 30000 | \n",
    "| 3 | 5 | 1 | 3000 |\n",
    "| 4 | 2 | 3 | 2500 |\n",
    "| 5 | 4 | 1 | 1000 |"
   ]
  },
  {
   "cell_type": "code",
   "execution_count": 9,
   "id": "c18ea964",
   "metadata": {
    "id": "c18ea964"
   },
   "outputs": [],
   "source": [
    "# insert into \"product_details\" table\n",
    "insert_into_prod_details = \"\"\"INSERT INTO PRODUCT_DETAILS (PROD_ID, PRO_ID, SUPP_ID, PROD_PRICE)\n",
    "                              VALUES (%s, %s, %s, %s)\"\"\"\n",
    "val_prod_details = [(1,1,2,1500), (2,3,5,30000), (3,5,1,3000), (4,2,3,2500), (5,4,1,1000)]\n",
    "cursorObject.executemany(insert_into_prod_details, val_prod_details)\n",
    "connection.commit()"
   ]
  },
  {
   "cell_type": "markdown",
   "id": "1df49086",
   "metadata": {
    "id": "1df49086"
   },
   "source": [
    "#### Table:  orders\n",
    "| ORD_ID | ORD_AMOUNT | ORD_DATE | CUS_ID | PROD_ID\n",
    "| --- | --- | --- | --- | --- |\n",
    "| 20 | 1500 | 2021-10-12 | 3 | 5 |\n",
    "| 25 | 30500 | 2021-09-16 | 5 | 2 |\n",
    "| 26 | 2000 | 2021-10-05 | 1 | 1 |\n",
    "| 30 | 3500 | 2021-08-16 | 4 | 3 |\n",
    "| 50 | 2000 | 2021-10-06 | 2 | 1 |"
   ]
  },
  {
   "cell_type": "code",
   "execution_count": 10,
   "id": "0d97dc92",
   "metadata": {
    "id": "0d97dc92"
   },
   "outputs": [],
   "source": [
    "# insert into \"orders\" table\n",
    "insert_into_orders = \"\"\"INSERT INTO ORDERS (ORD_ID, ORD_AMOUNT, ORD_DATE, CUS_ID, PROD_ID)\n",
    "                        VALUES (%s, %s, %s, %s, %s)\"\"\"\n",
    "val_ord = [(20, 1500, '2012-10-12', 3, 5), (25, 30500, '2021-09-16', 5, 2), (26, 2000, '2021-10-05', 1, 1),\n",
    "           (30, 3500, '2021-08-16', 4, 3), (50, 2000, '2021-10-06', 2, 1)]\n",
    "cursorObject.executemany(insert_into_orders, val_ord)\n",
    "connection.commit()"
   ]
  },
  {
   "cell_type": "markdown",
   "id": "75b8ce5f",
   "metadata": {
    "id": "75b8ce5f"
   },
   "source": [
    "#### Table: rating\n",
    "| RAT_ID | CUS_ID | SUPP_ID | RAT_RATSTARS |\n",
    "| --- | --- | --- | --- | \n",
    "| 1 | 2 | 2 | 4 |\n",
    "| 2 | 3 | 4 | 3 | \n",
    "| 3 | 5 | 1 | 5 |\n",
    "| 4 | 1 | 3 | 2 |\n",
    "| 5 | 4 | 5 | 4 |"
   ]
  },
  {
   "cell_type": "code",
   "execution_count": 13,
   "id": "6d5f1e18",
   "metadata": {
    "id": "6d5f1e18"
   },
   "outputs": [],
   "source": [
    "# insert into \"rating\" table\n",
    "insert_into_ratings = \"\"\"INSERT INTO RATING (RAT_ID, CUS_ID, SUPP_ID, RAT_RATSTARS)\n",
    "                         VALUES (%s, %s, %s, %s)\"\"\"\n",
    "val_rat = [(1, 2, 2, 4), (2, 3, 4, 3), (3, 5, 1, 5), (4, 1, 3, 2), (5, 4, 5, 4)]\n",
    "cursorObject.executemany(insert_into_ratings, val_rat)\n",
    "connection.commit()"
   ]
  },
  {
   "cell_type": "markdown",
   "id": "b59361c3",
   "metadata": {
    "id": "b59361c3"
   },
   "source": [
    "### Q3) Display the number of the customer group by their genders who have placed any order of amount greater than or equal to Rs.3000."
   ]
  },
  {
   "cell_type": "code",
   "execution_count": 24,
   "id": "fcafaf3c",
   "metadata": {
    "id": "fcafaf3c"
   },
   "outputs": [
    {
     "data": {
      "text/html": [
       "<style type=\"text/css\">\n",
       "</style>\n",
       "<table id=\"T_f691d_\">\n",
       "  <thead>\n",
       "    <tr>\n",
       "      <th class=\"col_heading level0 col0\" >coustomer count</th>\n",
       "      <th class=\"col_heading level0 col1\" >Gender</th>\n",
       "    </tr>\n",
       "  </thead>\n",
       "  <tbody>\n",
       "    <tr>\n",
       "      <td id=\"T_f691d_row0_col0\" class=\"data row0 col0\" >1</td>\n",
       "      <td id=\"T_f691d_row0_col1\" class=\"data row0 col1\" >M</td>\n",
       "    </tr>\n",
       "    <tr>\n",
       "      <td id=\"T_f691d_row1_col0\" class=\"data row1 col0\" >1</td>\n",
       "      <td id=\"T_f691d_row1_col1\" class=\"data row1 col1\" >F</td>\n",
       "    </tr>\n",
       "  </tbody>\n",
       "</table>\n"
      ],
      "text/plain": [
       "<pandas.io.formats.style.Styler at 0x1e8f03e7310>"
      ]
     },
     "execution_count": 24,
     "metadata": {},
     "output_type": "execute_result"
    }
   ],
   "source": [
    "query_3 = \"\"\"select count(c.cus_id) as customer_count, c.cus_gender as gender from customer as c inner join\n",
    "             (select cus_id from orders where ord_amount >= 3000) as  o on c.cus_id = o.cus_id group by c.cus_gender;\"\"\"\n",
    "cursorObject.execute(query_3)\n",
    "output_3 = cursorObject.fetchall()\n",
    "df_q3 = pd.DataFrame(output_3, columns =['coustomer count', 'Gender'])\n",
    "df_q3 = df_q3.style.hide_index()\n",
    "df_q3"
   ]
  },
  {
   "cell_type": "markdown",
   "id": "e49e04f5",
   "metadata": {
    "id": "e49e04f5"
   },
   "source": [
    "### Q4) Display all the order along with product name ordered by a customer having Customer_Id=2;"
   ]
  },
  {
   "cell_type": "code",
   "execution_count": 15,
   "id": "9dcb7883",
   "metadata": {
    "id": "9dcb7883"
   },
   "outputs": [
    {
     "data": {
      "text/html": [
       "<style type=\"text/css\">\n",
       "</style>\n",
       "<table id=\"T_a689c_\">\n",
       "  <thead>\n",
       "    <tr>\n",
       "      <th class=\"col_heading level0 col0\" >order id</th>\n",
       "      <th class=\"col_heading level0 col1\" >amount</th>\n",
       "      <th class=\"col_heading level0 col2\" >order date</th>\n",
       "      <th class=\"col_heading level0 col3\" >customer id</th>\n",
       "      <th class=\"col_heading level0 col4\" >prodcut id</th>\n",
       "      <th class=\"col_heading level0 col5\" >product name</th>\n",
       "    </tr>\n",
       "  </thead>\n",
       "  <tbody>\n",
       "    <tr>\n",
       "      <td id=\"T_a689c_row0_col0\" class=\"data row0 col0\" >50</td>\n",
       "      <td id=\"T_a689c_row0_col1\" class=\"data row0 col1\" >2000</td>\n",
       "      <td id=\"T_a689c_row0_col2\" class=\"data row0 col2\" >2021-10-06</td>\n",
       "      <td id=\"T_a689c_row0_col3\" class=\"data row0 col3\" >2</td>\n",
       "      <td id=\"T_a689c_row0_col4\" class=\"data row0 col4\" >1</td>\n",
       "      <td id=\"T_a689c_row0_col5\" class=\"data row0 col5\" >GTA V</td>\n",
       "    </tr>\n",
       "  </tbody>\n",
       "</table>\n"
      ],
      "text/plain": [
       "<pandas.io.formats.style.Styler at 0x200dd2d8130>"
      ]
     },
     "execution_count": 15,
     "metadata": {},
     "output_type": "execute_result"
    }
   ],
   "source": [
    "query_4 = \"\"\"select orders.*, p.pro_name from orders \n",
    "                inner join (select product_details.pro_id, product_details.prod_id, product.pro_name\n",
    "                            from product\n",
    "                            inner join product_details on product_details.pro_id = product.pro_id) p \n",
    "                on orders.prod_id = p.prod_id where cus_id = 2;\"\"\"\n",
    "cursorObject.execute(query_4)\n",
    "output_4 = cursorObject.fetchall()\n",
    "df_q4 = pd.DataFrame(output_4, columns = ['order id', 'amount', 'order date', 'customer id', 'prodcut id', 'product name'])\n",
    "df_q4 = df_q4.style.hide_index()\n",
    "df_q4"
   ]
  },
  {
   "cell_type": "markdown",
   "id": "3a33398e",
   "metadata": {
    "id": "3a33398e"
   },
   "source": [
    "### Q5) Display the Supplier details who can supply more than one product."
   ]
  },
  {
   "cell_type": "code",
   "execution_count": 18,
   "id": "e933b979",
   "metadata": {
    "id": "e933b979"
   },
   "outputs": [
    {
     "data": {
      "text/html": [
       "<style type=\"text/css\">\n",
       "</style>\n",
       "<table id=\"T_b1f51_\">\n",
       "  <thead>\n",
       "    <tr>\n",
       "      <th class=\"col_heading level0 col0\" >supp_id</th>\n",
       "      <th class=\"col_heading level0 col1\" >Supplier Name</th>\n",
       "      <th class=\"col_heading level0 col2\" >City</th>\n",
       "      <th class=\"col_heading level0 col3\" >Phone</th>\n",
       "    </tr>\n",
       "  </thead>\n",
       "  <tbody>\n",
       "    <tr>\n",
       "      <td id=\"T_b1f51_row0_col0\" class=\"data row0 col0\" >1</td>\n",
       "      <td id=\"T_b1f51_row0_col1\" class=\"data row0 col1\" >Rajesh Retails</td>\n",
       "      <td id=\"T_b1f51_row0_col2\" class=\"data row0 col2\" >Delhi</td>\n",
       "      <td id=\"T_b1f51_row0_col3\" class=\"data row0 col3\" >1234567890</td>\n",
       "    </tr>\n",
       "  </tbody>\n",
       "</table>\n"
      ],
      "text/plain": [
       "<pandas.io.formats.style.Styler at 0x200e081d490>"
      ]
     },
     "execution_count": 18,
     "metadata": {},
     "output_type": "execute_result"
    }
   ],
   "source": [
    "query_5 = \"\"\"select supplier.* from supplier \n",
    "                inner join (select pro_id, supp_id from product_details) as p \n",
    "             on supplier.supp_id = p.supp_id having count(p.supp_id) > 1;\"\"\"\n",
    "cursorObject.execute(query_5)\n",
    "output_5 = cursorObject.fetchall()\n",
    "df_q5 = pd.DataFrame(output_5, columns = ['supp_id', 'Supplier Name', 'City', 'Phone'])\n",
    "df_q5 = df_q5.style.hide_index()\n",
    "df_q5"
   ]
  },
  {
   "cell_type": "markdown",
   "id": "5fd319ef",
   "metadata": {
    "id": "5fd319ef"
   },
   "source": [
    "### Q6) Find the category of the product whose order amount is minimum."
   ]
  },
  {
   "cell_type": "code",
   "execution_count": 35,
   "id": "06f5cb51",
   "metadata": {
    "id": "06f5cb51"
   },
   "outputs": [
    {
     "data": {
      "text/html": [
       "<style type=\"text/css\">\n",
       "</style>\n",
       "<table id=\"T_ba42c_\">\n",
       "  <thead>\n",
       "    <tr>\n",
       "      <th class=\"col_heading level0 col0\" >Category Name</th>\n",
       "    </tr>\n",
       "  </thead>\n",
       "  <tbody>\n",
       "    <tr>\n",
       "      <td id=\"T_ba42c_row0_col0\" class=\"data row0 col0\" >Games</td>\n",
       "    </tr>\n",
       "  </tbody>\n",
       "</table>\n"
      ],
      "text/plain": [
       "<pandas.io.formats.style.Styler at 0x1e8f2a912b0>"
      ]
     },
     "execution_count": 35,
     "metadata": {},
     "output_type": "execute_result"
    }
   ],
   "source": [
    "query_6 = \"\"\"select cat_name from category\n",
    "                where cat_id = (select cat_id from product \n",
    "                    where pro_id = (select p.pro_id from product_details as p\n",
    "                        where prod_id = (select prod_id from orders order by ord_amount limit 1)));\"\"\"\n",
    "cursorObject.execute(query_6)\n",
    "output_6 = cursorObject.fetchall()\n",
    "df_q6 = pd.DataFrame(output_6, columns = ['Category Name'])\n",
    "df_q6 = df_q6.style.hide_index()\n",
    "df_q6"
   ]
  },
  {
   "cell_type": "markdown",
   "id": "107102d4",
   "metadata": {
    "id": "107102d4"
   },
   "source": [
    "### Q7) Display the Id and Name of the Product ordered after “2021-10-05”."
   ]
  },
  {
   "cell_type": "code",
   "execution_count": 17,
   "id": "5d3fc7e8",
   "metadata": {
    "id": "5d3fc7e8"
   },
   "outputs": [
    {
     "data": {
      "text/html": [
       "<style type=\"text/css\">\n",
       "</style>\n",
       "<table id=\"T_34677_\">\n",
       "  <thead>\n",
       "    <tr>\n",
       "      <th class=\"col_heading level0 col0\" >product id</th>\n",
       "      <th class=\"col_heading level0 col1\" >product name</th>\n",
       "      <th class=\"col_heading level0 col2\" >order date</th>\n",
       "    </tr>\n",
       "  </thead>\n",
       "  <tbody>\n",
       "    <tr>\n",
       "      <td id=\"T_34677_row0_col0\" class=\"data row0 col0\" >1</td>\n",
       "      <td id=\"T_34677_row0_col1\" class=\"data row0 col1\" >GTA V</td>\n",
       "      <td id=\"T_34677_row0_col2\" class=\"data row0 col2\" >2021-10-06</td>\n",
       "    </tr>\n",
       "  </tbody>\n",
       "</table>\n"
      ],
      "text/plain": [
       "<pandas.io.formats.style.Styler at 0x200df8a47c0>"
      ]
     },
     "execution_count": 17,
     "metadata": {},
     "output_type": "execute_result"
    }
   ],
   "source": [
    "query_7 = \"\"\"select product.pro_id, product.pro_name, o.ord_date from product \n",
    "                inner join (select orders.ord_date, orders.prod_id, product_details.pro_id  from orders \n",
    "                            inner join product_details on orders.prod_id = product_details.prod_id) as o \n",
    "                on product.pro_id = o.pro_id where ord_date > '2021-10-05';\"\"\"\n",
    "cursorObject.execute(query_7)\n",
    "output_7 = cursorObject.fetchall()\n",
    "df_q7 = pd.DataFrame(output_7, columns = ['product id', 'product name', 'order date'])\n",
    "df_q7 = df_q7.style.hide_index()\n",
    "df_q7"
   ]
  },
  {
   "cell_type": "markdown",
   "id": "bdce7167",
   "metadata": {
    "id": "bdce7167"
   },
   "source": [
    "### Q8) Print the top 3 supplier name and id and rating on the basis of their rating along with the customer name who has given the rating."
   ]
  },
  {
   "cell_type": "code",
   "execution_count": 42,
   "id": "fa0cbe44",
   "metadata": {
    "id": "fa0cbe44"
   },
   "outputs": [
    {
     "data": {
      "text/html": [
       "<style type=\"text/css\">\n",
       "</style>\n",
       "<table id=\"T_1b3bf_\">\n",
       "  <thead>\n",
       "    <tr>\n",
       "      <th class=\"col_heading level0 col0\" >supplier id</th>\n",
       "      <th class=\"col_heading level0 col1\" >supplier name</th>\n",
       "      <th class=\"col_heading level0 col2\" >ratings</th>\n",
       "      <th class=\"col_heading level0 col3\" >customer name</th>\n",
       "    </tr>\n",
       "  </thead>\n",
       "  <tbody>\n",
       "    <tr>\n",
       "      <td id=\"T_1b3bf_row0_col0\" class=\"data row0 col0\" >1</td>\n",
       "      <td id=\"T_1b3bf_row0_col1\" class=\"data row0 col1\" >Rajesh Retails</td>\n",
       "      <td id=\"T_1b3bf_row0_col2\" class=\"data row0 col2\" >5</td>\n",
       "      <td id=\"T_1b3bf_row0_col3\" class=\"data row0 col3\" >Pulkit</td>\n",
       "    </tr>\n",
       "    <tr>\n",
       "      <td id=\"T_1b3bf_row1_col0\" class=\"data row1 col0\" >2</td>\n",
       "      <td id=\"T_1b3bf_row1_col1\" class=\"data row1 col1\" >Appario Ltd</td>\n",
       "      <td id=\"T_1b3bf_row1_col2\" class=\"data row1 col2\" >4</td>\n",
       "      <td id=\"T_1b3bf_row1_col3\" class=\"data row1 col3\" >Aman</td>\n",
       "    </tr>\n",
       "    <tr>\n",
       "      <td id=\"T_1b3bf_row2_col0\" class=\"data row2 col0\" >5</td>\n",
       "      <td id=\"T_1b3bf_row2_col1\" class=\"data row2 col1\" >Mittal Ltd.</td>\n",
       "      <td id=\"T_1b3bf_row2_col2\" class=\"data row2 col2\" >4</td>\n",
       "      <td id=\"T_1b3bf_row2_col3\" class=\"data row2 col3\" >Megha</td>\n",
       "    </tr>\n",
       "  </tbody>\n",
       "</table>\n"
      ],
      "text/plain": [
       "<pandas.io.formats.style.Styler at 0x1e8f0339d00>"
      ]
     },
     "execution_count": 42,
     "metadata": {},
     "output_type": "execute_result"
    }
   ],
   "source": [
    "query_8 = \"\"\"select s.supp_id, s.supp_name, r.rat_ratstars, c.cus_name from supplier as s, rating as r, customer as c where s.supp_id = r.supp_id \n",
    "                and r.cus_id = c.cus_id order by r.rat_ratstars desc limit 3;\"\"\"\n",
    "cursorObject.execute(query_8)\n",
    "output_8 = cursorObject.fetchall()\n",
    "df_q8 = pd.DataFrame(output_8, columns = ['supplier id', 'supplier name', 'ratings', 'customer name'])\n",
    "df_q8 = df_q8.style.hide_index()\n",
    "df_q8"
   ]
  },
  {
   "cell_type": "markdown",
   "id": "346ec2a1",
   "metadata": {
    "id": "346ec2a1"
   },
   "source": [
    "### Q9) Display customer name and gender whose names start or end with character 'A'."
   ]
  },
  {
   "cell_type": "code",
   "execution_count": 40,
   "id": "e571b5fd",
   "metadata": {
    "id": "e571b5fd"
   },
   "outputs": [
    {
     "data": {
      "text/html": [
       "<style type=\"text/css\">\n",
       "</style>\n",
       "<table id=\"T_bfdc5_\">\n",
       "  <thead>\n",
       "    <tr>\n",
       "      <th class=\"col_heading level0 col0\" >customer name</th>\n",
       "      <th class=\"col_heading level0 col1\" >gender</th>\n",
       "    </tr>\n",
       "  </thead>\n",
       "  <tbody>\n",
       "    <tr>\n",
       "      <td id=\"T_bfdc5_row0_col0\" class=\"data row0 col0\" >Aakash</td>\n",
       "      <td id=\"T_bfdc5_row0_col1\" class=\"data row0 col1\" >M</td>\n",
       "    </tr>\n",
       "    <tr>\n",
       "      <td id=\"T_bfdc5_row1_col0\" class=\"data row1 col0\" >Aman</td>\n",
       "      <td id=\"T_bfdc5_row1_col1\" class=\"data row1 col1\" >M</td>\n",
       "    </tr>\n",
       "    <tr>\n",
       "      <td id=\"T_bfdc5_row2_col0\" class=\"data row2 col0\" >Neha</td>\n",
       "      <td id=\"T_bfdc5_row2_col1\" class=\"data row2 col1\" >F</td>\n",
       "    </tr>\n",
       "    <tr>\n",
       "      <td id=\"T_bfdc5_row3_col0\" class=\"data row3 col0\" >Megha</td>\n",
       "      <td id=\"T_bfdc5_row3_col1\" class=\"data row3 col1\" >F</td>\n",
       "    </tr>\n",
       "  </tbody>\n",
       "</table>\n"
      ],
      "text/plain": [
       "<pandas.io.formats.style.Styler at 0x1e8f2a91be0>"
      ]
     },
     "execution_count": 40,
     "metadata": {},
     "output_type": "execute_result"
    }
   ],
   "source": [
    "query_9 = \"\"\"select cus_name, cus_gender from customer where cus_name like 'A%' or cus_name LIKE '%a';\"\"\"\n",
    "cursorObject.execute(query_9)\n",
    "output_9 = cursorObject.fetchall()\n",
    "df_q9 = pd.DataFrame(output_9, columns = ['customer name', 'gender'])\n",
    "df_q9 = df_q9.style.hide_index()\n",
    "df_q9"
   ]
  },
  {
   "cell_type": "markdown",
   "id": "d0b01f77",
   "metadata": {
    "id": "d0b01f77"
   },
   "source": [
    "### Q10) Display the total order amount of the male customers."
   ]
  },
  {
   "cell_type": "code",
   "execution_count": 43,
   "id": "c3fa76e3",
   "metadata": {
    "id": "c3fa76e3"
   },
   "outputs": [
    {
     "data": {
      "text/html": [
       "<style type=\"text/css\">\n",
       "</style>\n",
       "<table id=\"T_71ef3_\">\n",
       "  <thead>\n",
       "    <tr>\n",
       "      <th class=\"col_heading level0 col0\" >Total Amount</th>\n",
       "      <th class=\"col_heading level0 col1\" >Gender</th>\n",
       "    </tr>\n",
       "  </thead>\n",
       "  <tbody>\n",
       "    <tr>\n",
       "      <td id=\"T_71ef3_row0_col0\" class=\"data row0 col0\" >32700</td>\n",
       "      <td id=\"T_71ef3_row0_col1\" class=\"data row0 col1\" >M</td>\n",
       "    </tr>\n",
       "  </tbody>\n",
       "</table>\n"
      ],
      "text/plain": [
       "<pandas.io.formats.style.Styler at 0x1e8f33a7d60>"
      ]
     },
     "execution_count": 43,
     "metadata": {},
     "output_type": "execute_result"
    }
   ],
   "source": [
    "query_10 = \"\"\"select sum(ord_amount) ,c.cus_gender from orders as o\n",
    "                        right join  customer as c on c.cus_id = o.cus_id where c.cus_gender='M';\"\"\"\n",
    "cursorObject.execute(query_10)\n",
    "output_10 = cursorObject.fetchall()\n",
    "df_q10 = pd.DataFrame(output_10, columns = ['Total Amount', 'Gender'])\n",
    "df_q10 = df_q10.style.hide_index()\n",
    "df_q10"
   ]
  },
  {
   "cell_type": "markdown",
   "id": "ff8a9971",
   "metadata": {
    "id": "ff8a9971"
   },
   "source": [
    "### Q11) Display all the Customers left outer join with  the orders"
   ]
  },
  {
   "cell_type": "code",
   "execution_count": 44,
   "id": "a340c6d6",
   "metadata": {
    "id": "a340c6d6"
   },
   "outputs": [
    {
     "data": {
      "text/html": [
       "<style type=\"text/css\">\n",
       "</style>\n",
       "<table id=\"T_6de0b_\">\n",
       "  <thead>\n",
       "    <tr>\n",
       "      <th class=\"col_heading level0 col0\" >cus_id</th>\n",
       "      <th class=\"col_heading level0 col1\" >cus_name</th>\n",
       "      <th class=\"col_heading level0 col2\" >phone</th>\n",
       "      <th class=\"col_heading level0 col3\" >city</th>\n",
       "      <th class=\"col_heading level0 col4\" >gender</th>\n",
       "      <th class=\"col_heading level0 col5\" >ord_id</th>\n",
       "      <th class=\"col_heading level0 col6\" >amount</th>\n",
       "      <th class=\"col_heading level0 col7\" >date</th>\n",
       "      <th class=\"col_heading level0 col8\" >cus_id</th>\n",
       "      <th class=\"col_heading level0 col9\" >prod_id</th>\n",
       "    </tr>\n",
       "  </thead>\n",
       "  <tbody>\n",
       "    <tr>\n",
       "      <td id=\"T_6de0b_row0_col0\" class=\"data row0 col0\" >1</td>\n",
       "      <td id=\"T_6de0b_row0_col1\" class=\"data row0 col1\" >Aakash</td>\n",
       "      <td id=\"T_6de0b_row0_col2\" class=\"data row0 col2\" >99999999</td>\n",
       "      <td id=\"T_6de0b_row0_col3\" class=\"data row0 col3\" >Delhi</td>\n",
       "      <td id=\"T_6de0b_row0_col4\" class=\"data row0 col4\" >M</td>\n",
       "      <td id=\"T_6de0b_row0_col5\" class=\"data row0 col5\" >26</td>\n",
       "      <td id=\"T_6de0b_row0_col6\" class=\"data row0 col6\" >200</td>\n",
       "      <td id=\"T_6de0b_row0_col7\" class=\"data row0 col7\" >2021-10-05</td>\n",
       "      <td id=\"T_6de0b_row0_col8\" class=\"data row0 col8\" >1</td>\n",
       "      <td id=\"T_6de0b_row0_col9\" class=\"data row0 col9\" >1</td>\n",
       "    </tr>\n",
       "    <tr>\n",
       "      <td id=\"T_6de0b_row1_col0\" class=\"data row1 col0\" >2</td>\n",
       "      <td id=\"T_6de0b_row1_col1\" class=\"data row1 col1\" >Aman</td>\n",
       "      <td id=\"T_6de0b_row1_col2\" class=\"data row1 col2\" >9785463215</td>\n",
       "      <td id=\"T_6de0b_row1_col3\" class=\"data row1 col3\" >Noida</td>\n",
       "      <td id=\"T_6de0b_row1_col4\" class=\"data row1 col4\" >M</td>\n",
       "      <td id=\"T_6de0b_row1_col5\" class=\"data row1 col5\" >50</td>\n",
       "      <td id=\"T_6de0b_row1_col6\" class=\"data row1 col6\" >2000</td>\n",
       "      <td id=\"T_6de0b_row1_col7\" class=\"data row1 col7\" >2021-10-06</td>\n",
       "      <td id=\"T_6de0b_row1_col8\" class=\"data row1 col8\" >2</td>\n",
       "      <td id=\"T_6de0b_row1_col9\" class=\"data row1 col9\" >1</td>\n",
       "    </tr>\n",
       "    <tr>\n",
       "      <td id=\"T_6de0b_row2_col0\" class=\"data row2 col0\" >3</td>\n",
       "      <td id=\"T_6de0b_row2_col1\" class=\"data row2 col1\" >Neha</td>\n",
       "      <td id=\"T_6de0b_row2_col2\" class=\"data row2 col2\" >999999998</td>\n",
       "      <td id=\"T_6de0b_row2_col3\" class=\"data row2 col3\" >Mumbai</td>\n",
       "      <td id=\"T_6de0b_row2_col4\" class=\"data row2 col4\" >F</td>\n",
       "      <td id=\"T_6de0b_row2_col5\" class=\"data row2 col5\" >20</td>\n",
       "      <td id=\"T_6de0b_row2_col6\" class=\"data row2 col6\" >1500</td>\n",
       "      <td id=\"T_6de0b_row2_col7\" class=\"data row2 col7\" >2012-10-12</td>\n",
       "      <td id=\"T_6de0b_row2_col8\" class=\"data row2 col8\" >3</td>\n",
       "      <td id=\"T_6de0b_row2_col9\" class=\"data row2 col9\" >5</td>\n",
       "    </tr>\n",
       "    <tr>\n",
       "      <td id=\"T_6de0b_row3_col0\" class=\"data row3 col0\" >4</td>\n",
       "      <td id=\"T_6de0b_row3_col1\" class=\"data row3 col1\" >Megha</td>\n",
       "      <td id=\"T_6de0b_row3_col2\" class=\"data row3 col2\" >9994562399</td>\n",
       "      <td id=\"T_6de0b_row3_col3\" class=\"data row3 col3\" >Kolkata</td>\n",
       "      <td id=\"T_6de0b_row3_col4\" class=\"data row3 col4\" >F</td>\n",
       "      <td id=\"T_6de0b_row3_col5\" class=\"data row3 col5\" >30</td>\n",
       "      <td id=\"T_6de0b_row3_col6\" class=\"data row3 col6\" >3500</td>\n",
       "      <td id=\"T_6de0b_row3_col7\" class=\"data row3 col7\" >2021-08-16</td>\n",
       "      <td id=\"T_6de0b_row3_col8\" class=\"data row3 col8\" >4</td>\n",
       "      <td id=\"T_6de0b_row3_col9\" class=\"data row3 col9\" >3</td>\n",
       "    </tr>\n",
       "    <tr>\n",
       "      <td id=\"T_6de0b_row4_col0\" class=\"data row4 col0\" >5</td>\n",
       "      <td id=\"T_6de0b_row4_col1\" class=\"data row4 col1\" >Pulkit</td>\n",
       "      <td id=\"T_6de0b_row4_col2\" class=\"data row4 col2\" >7859999999</td>\n",
       "      <td id=\"T_6de0b_row4_col3\" class=\"data row4 col3\" >Lucknow</td>\n",
       "      <td id=\"T_6de0b_row4_col4\" class=\"data row4 col4\" >M</td>\n",
       "      <td id=\"T_6de0b_row4_col5\" class=\"data row4 col5\" >25</td>\n",
       "      <td id=\"T_6de0b_row4_col6\" class=\"data row4 col6\" >30500</td>\n",
       "      <td id=\"T_6de0b_row4_col7\" class=\"data row4 col7\" >2021-09-16</td>\n",
       "      <td id=\"T_6de0b_row4_col8\" class=\"data row4 col8\" >5</td>\n",
       "      <td id=\"T_6de0b_row4_col9\" class=\"data row4 col9\" >2</td>\n",
       "    </tr>\n",
       "  </tbody>\n",
       "</table>\n"
      ],
      "text/plain": [
       "<pandas.io.formats.style.Styler at 0x1e8f398d850>"
      ]
     },
     "execution_count": 44,
     "metadata": {},
     "output_type": "execute_result"
    }
   ],
   "source": [
    "query_11 = \"\"\"select * from customer as c left join  orders as o on c.cus_id = o.cus_id;\"\"\"\n",
    "cursorObject.execute(query_11)\n",
    "output_11 = cursorObject.fetchall()\n",
    "df_q11 = pd.DataFrame(output_11, columns = ['cus_id', 'cus_name', 'phone', 'city', 'gender', 'ord_id', 'amount', 'date', 'cus_id', 'prod_id'])\n",
    "df_q11 = df_q11.style.hide_index()\n",
    "df_q11"
   ]
  },
  {
   "cell_type": "markdown",
   "id": "0a72afe3",
   "metadata": {
    "id": "0a72afe3"
   },
   "source": [
    "**NOTE:** Always close an open connection once you are done with the database operations"
   ]
  },
  {
   "cell_type": "markdown",
   "id": "8c88f479",
   "metadata": {
    "id": "8c88f479"
   },
   "source": [
    "## Happy Learning:)"
   ]
  }
 ],
 "metadata": {
  "colab": {
   "name": "Lab Session  -  E-Commerce.ipynb",
   "provenance": []
  },
  "kernelspec": {
   "display_name": "Python 3 (ipykernel)",
   "language": "python",
   "name": "python3"
  },
  "language_info": {
   "codemirror_mode": {
    "name": "ipython",
    "version": 3
   },
   "file_extension": ".py",
   "mimetype": "text/x-python",
   "name": "python",
   "nbconvert_exporter": "python",
   "pygments_lexer": "ipython3",
   "version": "3.9.7"
  }
 },
 "nbformat": 4,
 "nbformat_minor": 5
}
